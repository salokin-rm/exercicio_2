{
 "cells": [
  {
   "cell_type": "code",
   "execution_count": null,
   "id": "56a50cb3",
   "metadata": {},
   "outputs": [
    {
     "name": "stdout",
     "output_type": "stream",
     "text": [
      "Digite os numeros 2 e 3 separados por enter: \n"
     ]
    }
   ],
   "source": [
    "\"\"\"\n",
    "Programa: Armazenamento de Números\n",
    "Descrição: Este programa armazena os números 2 e 3, calcula a sua soma e imprime na tela o resultado.\n",
    "Autor: Nikolas Martins\n",
    "Data: 21/06/2023\n",
    "Versão: 0.0.1\n",
    "\"\"\"\n",
    "\n",
    "# Atribuição de variáveis\n",
    "\n",
    "variavel = []\n",
    "tamanho = [0, 0]\n",
    "x=0\n",
    "\n",
    "# Entrada de dados\n",
    "\n",
    "print(\"Digite os numeros 2 e 3 separados por enter: \")\n",
    "\n",
    "# Processamento de dados\n",
    "\n",
    "for y in range(len(tamanho)):\n",
    "    x=x+1\n",
    "    coringa = float(input(f\"{x}º numero: \")) #variável transição\n",
    "    variavel.append(coringa)\n",
    "    \n",
    "# Saída de dados\n",
    "   \n",
    "if len(variavel)==2:\n",
    "    print(\"Números digitados:\",variavel,\".\")\n",
    "    \n",
    "    "
   ]
  },
  {
   "cell_type": "code",
   "execution_count": null,
   "id": "af1d7d6f",
   "metadata": {},
   "outputs": [],
   "source": []
  }
 ],
 "metadata": {
  "kernelspec": {
   "display_name": "Python 3 (ipykernel)",
   "language": "python",
   "name": "python3"
  },
  "language_info": {
   "codemirror_mode": {
    "name": "ipython",
    "version": 3
   },
   "file_extension": ".py",
   "mimetype": "text/x-python",
   "name": "python",
   "nbconvert_exporter": "python",
   "pygments_lexer": "ipython3",
   "version": "3.10.9"
  }
 },
 "nbformat": 4,
 "nbformat_minor": 5
}
